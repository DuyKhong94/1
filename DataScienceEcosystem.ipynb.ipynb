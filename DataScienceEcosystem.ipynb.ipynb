{
 "cells": [
  {
   "cell_type": "markdown",
   "id": "2a4b780e-1f78-4e31-8dd4-2e2841fc696c",
   "metadata": {},
   "source": [
    "#Data Science Tools and Ecosystem"
   ]
  },
  {
   "attachments": {},
   "cell_type": "markdown",
   "id": "325ab854-537e-4643-a2b0-d3761e781320",
   "metadata": {},
   "source": [
    "In this notebook, Data Science Tools and Ecosystem are summarized"
   ]
  },
  {
   "cell_type": "markdown",
   "id": "d838ff8a-caf5-44cd-9ca8-525886706add",
   "metadata": {},
   "source": [
    "Some of the popular languages that Data Scientist use are:"
   ]
  },
  {
   "cell_type": "markdown",
   "id": "121feba9-0505-4b08-9817-11c3c31074ab",
   "metadata": {},
   "source": [
    "Python\n",
    "R\n",
    "C++"
   ]
  },
  {
   "cell_type": "markdown",
   "id": "d2c92425-c590-4fad-8866-634f1ea549fc",
   "metadata": {},
   "source": [
    "Some of the commonly used libraries used by Data Scientists include:\n",
    "Matplotlib\n",
    "nupmy\n",
    "pandas\n",
    "ggplot"
   ]
  },
  {
   "cell_type": "markdown",
   "id": "49326f52-940c-4b9f-8826-c4cbf91be0d2",
   "metadata": {},
   "source": [
    "Data Science Tools"
   ]
  },
  {
   "cell_type": "markdown",
   "id": "0956f839-cdd5-4449-9b06-97dee1023667",
   "metadata": {},
   "source": [
    "GITHUB"
   ]
  },
  {
   "cell_type": "markdown",
   "id": "b348bc37-762c-4476-87b3-0544162287b2",
   "metadata": {},
   "source": [
    "Rstudio"
   ]
  },
  {
   "cell_type": "markdown",
   "id": "d5431dcf-ac78-4d96-bbce-4a0c84971661",
   "metadata": {},
   "source": [
    "Jupiter Notebook"
   ]
  },
  {
   "cell_type": "markdown",
   "id": "49b1d97a-d895-4a9e-aebf-aa3c7ca665cc",
   "metadata": {},
   "source": [
    "### Below are a few examples of evaluating arithmetic expressions in Python."
   ]
  },
  {
   "cell_type": "code",
   "execution_count": 3,
   "id": "3e4c501b-08b8-4484-a209-ac67572adc29",
   "metadata": {},
   "outputs": [
    {
     "data": {
      "text/plain": [
       "17"
      ]
     },
     "execution_count": 3,
     "metadata": {},
     "output_type": "execute_result"
    }
   ],
   "source": [
    "# This is a simple arithmetic expression to multiply then add integers.\n",
    "(3 * 4) + 5\n"
   ]
  },
  {
   "cell_type": "code",
   "execution_count": 4,
   "id": "cf81aba1-8461-4340-a496-89b878322f09",
   "metadata": {},
   "outputs": [
    {
     "data": {
      "text/plain": [
       "3.3333333333333335"
      ]
     },
     "execution_count": 4,
     "metadata": {},
     "output_type": "execute_result"
    }
   ],
   "source": [
    "# This will convert 200 minutes to hours by dividing by 60.\n",
    "200 / 60"
   ]
  },
  {
   "cell_type": "markdown",
   "id": "e3f2f5c5-8316-48a1-ad48-5278296b84bd",
   "metadata": {},
   "source": [
    "**Objectives:**\n",
    "\n",
    "- List popular languages for Data Science  \n",
    "- Introduce arithmetic expressions  \n",
    "- Convert minutes to hours using Python  \n",
    "- Create and format Markdown cells  \n",
    "- Upload notebooks to GitHub"
   ]
  },
  {
   "cell_type": "markdown",
   "id": "06dd8678-72e2-47c2-ad14-9528890d09cb",
   "metadata": {},
   "source": [
    "## Author  \n",
    "Duy Khong"
   ]
  },
  {
   "cell_type": "code",
   "execution_count": null,
   "id": "48625b2d-a3bb-4093-bec1-68f476447003",
   "metadata": {},
   "outputs": [],
   "source": []
  }
 ],
 "metadata": {
  "kernelspec": {
   "display_name": "Python [conda env:base] *",
   "language": "python",
   "name": "conda-base-py"
  },
  "language_info": {
   "codemirror_mode": {
    "name": "ipython",
    "version": 3
   },
   "file_extension": ".py",
   "mimetype": "text/x-python",
   "name": "python",
   "nbconvert_exporter": "python",
   "pygments_lexer": "ipython3",
   "version": "3.12.7"
  }
 },
 "nbformat": 4,
 "nbformat_minor": 5
}
